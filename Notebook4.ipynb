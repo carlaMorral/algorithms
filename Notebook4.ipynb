{
 "cells": [
  {
   "cell_type": "markdown",
   "metadata": {
    "lang": "ca"
   },
   "source": [
    "# Notebook 4: Algorismes per text"
   ]
  },
  {
   "cell_type": "markdown",
   "metadata": {
    "lang": "en"
   },
   "source": [
    "# Notebook 4: Text algorithms"
   ]
  },
  {
   "cell_type": "markdown",
   "metadata": {
    "lang": "ca"
   },
   "source": [
    "## Exercici 1\n",
    "\n",
    "Donades dues cadenes de caràcters identificar la longitud de la subseqüència compartida més llarga. Una subseqüència és una seqüència de caràcters en el mateix ordre que a la cadena original però no necessàriament consecutius.</p>\n",
    "\n",
    "Per exemple de la paraula ACBA, podem treure'n les subseqüències AC,AB,AA, ACB, ACA, ACBA, CB, CA, CBA, BA"
   ]
  },
  {
   "cell_type": "markdown",
   "metadata": {
    "lang": "en"
   },
   "source": [
    "## Exercise 1\n",
    "\n",
    "Given two character strings identify the length of the longest shared subset. A subsecuence is a sequence of characters in the same order as in the original string but not necessarily consecutive.</p>\n",
    "\n",
    "For example, from the word ACBA, we can take the following sequences AC, AB, AA, ACB, ACA, ACBA, CB, CA, CBA, BA"
   ]
  },
  {
   "cell_type": "code",
   "execution_count": 107,
   "metadata": {
    "collapsed": true
   },
   "outputs": [],
   "source": [
    "# Substitueix la comanda pass pel teu codi\n",
    "# Aplica les directrius d'estil PEP8 i inclou comentaris inicials i entre línies\n",
    "\n",
    "def subSComu(cadena1, cadena2):\n",
    "    \n",
    "    \"\"\"\n",
    "    Aquest programa calcula la longitud de la subseqüencia compartida més \n",
    "    llarga mitjançant la recursivitat.\n",
    "    \"\"\"\n",
    "    \n",
    "    #Hi ha 3 possibilitats:\n",
    "    longSubSequencia = 0\n",
    "    \n",
    "    #Cas 1: Que la longitud d'un, de l'altre o dels 2 sigui 0. \n",
    "    #En aquest cas la longitud serà 0, evidentment.\n",
    "    if len(cadena1) == 0 or len(cadena2) == 0:\n",
    "        longSubSequencia = 0\n",
    "    \n",
    "    #Cas 2: Quan l'últim caràcter de cada string coincideixi, la \n",
    "    #longitud augmentarà en una unitat, doncs serà com a mínim d'1.\n",
    "    elif cadena1[-1] == cadena2[-1]:\n",
    "        longSubSequencia = 1 + subSComu(cadena1[:-1],cadena2[:-1])\n",
    "    \n",
    "    #Cas 3: Quan l'últim caràcter de cada string no coincideixi, es\n",
    "    #cridarà recursivament a dues funcions i s'agafarà el valor màxim retornat.\n",
    "    else:\n",
    "        longSubSequencia = max(subSComu(cadena1,cadena2[:-1]),subSComu(cadena2,cadena1[:-1]))\n",
    "    \n",
    "    return longSubSequencia"
   ]
  },
  {
   "cell_type": "code",
   "execution_count": 108,
   "metadata": {
    "collapsed": true
   },
   "outputs": [],
   "source": [
    "# Test de la funció\n",
    "assert subSComu(\"ERTBADE\",\"ERATDF\") == 4\n",
    "assert subSComu(\"CADERTH\",\"DFERTACGH\") == 5\n",
    "assert subSComu(\"GUTREDFC\",\"GUERTABRTLEHVB\") == 5"
   ]
  },
  {
   "cell_type": "markdown",
   "metadata": {
    "lang": "ca"
   },
   "source": [
    "## Exercici 2\n",
    "\n",
    "També podem construir la solució amb una taula que va guardant els valors de la subseqüència comú més llarga:\n",
    "\n",
    "\n",
    "|   |   | 0 | 1 | 2 | 3 | 4 | 5 | 6 | 7 | 8 |\n",
    "|---|---|---|---|---|---|---|---|---|---|---|\n",
    "|---|---| S | U | B | C | A | D | E | N | A |\n",
    "| 0 | A | 0 | 0 | 0 | 0 | 0 | 0 | 0 | 0 | 0 |\n",
    "| 1 | B | 0 | 0 | 1 | 1 | 1 | 1 | 1 | 1 | 1 |\n",
    "| 2 | E | 0 | 0 | 1 | 1 | 1 | 1 | 2 | 2 | 2 |\n",
    "| 3 | C | 0 | 0 | 1 | 2 | 2 | 2 | 2 | 2 | 2 |\n",
    "| 4 | E | 0 | 0 | 1 | 2 | 2 | 2 | 3 | 3 | 3 |\n",
    "| 5 | D | 0 | 0 | 1 | 2 | 2 | 3 | 3 | 3 | 3 |\n",
    "| 6 | A | 0 | 0 | 1 | 2 | 3 | 3 | 3 | 3 | 4 |\n",
    "| 7 | R | 0 | 0 | 1 | 2 | 3 | 3 | 3 | 3 | 4 |\n",
    "| 8 | I | 0 | 0 | 1 | 2 | 3 | 3 | 3 | 3 | 4 |\n",
    "\n",
    "\n",
    "La casella[i][j] guarda el valor de longitud de la subseqüència més llarga entre cadena1[0:j] i cadena2[0:i]\n",
    "\n",
    "Per ex. la casella[2][6] guarda la longitud de la subseqüència més llarga entre cadena1[0:6] i cadena2[0:2]. Efectivament 2 és la longitud de la subseqüència més llarga entre \"SUBCADE\" i \"ABE\", que es correspon a \"AE\"\n",
    "\n",
    "\n",
    "Crea doncs una nova funció subSComuTaula que generi aquesta taula i que retorni el resultat en base a la taula."
   ]
  },
  {
   "cell_type": "markdown",
   "metadata": {
    "lang": "en"
   },
   "source": [
    "## Exercise 2\n",
    "We can also construct the solution with a table that keeps the values ​​of the common subseqwence longer:\n",
    "\n",
    "\n",
    "|   |   | 0 | 1 | 2 | 3 | 4 | 5 | 6 | 7 | 8 |\n",
    "|---|---|---|---|---|---|---|---|---|---|---|\n",
    "|---|---| S | U | B | C | A | D | E | N | A |\n",
    "| 0 | A | 0 | 0 | 0 | 0 | 0 | 0 | 0 | 0 | 0 |\n",
    "| 1 | B | 0 | 0 | 1 | 1 | 1 | 1 | 1 | 1 | 1 |\n",
    "| 2 | E | 0 | 0 | 1 | 1 | 1 | 1 | 2 | 2 | 2 |\n",
    "| 3 | C | 0 | 0 | 1 | 2 | 2 | 2 | 2 | 2 | 2 |\n",
    "| 4 | E | 0 | 0 | 1 | 2 | 2 | 2 | 3 | 3 | 3 |\n",
    "| 5 | D | 0 | 0 | 1 | 2 | 2 | 3 | 3 | 3 | 3 |\n",
    "| 6 | A | 0 | 0 | 1 | 2 | 3 | 3 | 3 | 3 | 4 |\n",
    "| 7 | R | 0 | 0 | 1 | 2 | 3 | 3 | 3 | 3 | 4 |\n",
    "| 8 | I | 0 | 0 | 1 | 2 | 3 | 3 | 3 | 3 | 4 |d\n",
    "\n",
    "\n",
    "The [i] [j] box stores the length value of the longest subsection between string1 [0: j] and string2 [0: i]\n",
    "\n",
    "For example the square [2] [6] stores the length of the longest subsection between chain 1 [0: 6] and chain2 [0: 2]. Indeed 2 is the length of the longest subsecuence between \"SUBCADE\" and \"ABE\", which corresponds to \"AE\"\n",
    "\n",
    "\n",
    "Create a new subComulaType function that generates this table and returns the result based on the table."
   ]
  },
  {
   "cell_type": "code",
   "execution_count": 196,
   "metadata": {},
   "outputs": [
    {
     "name": "stdout",
     "output_type": "stream",
     "text": [
      "0 0 0 0 0 0 0 0 0 0 \n",
      "0 0 0 0 0 1 1 1 1 1 \n",
      "0 0 0 1 1 1 1 1 1 1 \n",
      "0 0 0 1 1 1 1 2 2 2 \n",
      "0 0 0 1 2 2 2 2 2 2 \n",
      "0 0 0 1 2 2 2 3 3 3 \n",
      "0 0 0 1 2 2 3 3 3 3 \n",
      "0 0 0 1 2 3 3 3 3 4 \n",
      "0 0 0 1 2 3 3 3 3 4 \n",
      "0 0 0 1 2 3 3 3 3 4 \n"
     ]
    },
    {
     "data": {
      "text/plain": [
       "4"
      ]
     },
     "execution_count": 196,
     "metadata": {},
     "output_type": "execute_result"
    }
   ],
   "source": [
    "# Substitueix la comanda pass pel teu codi\n",
    "# Aplica les directrius d'estil PEP8 i inclou comentaris inicials i entre línies\n",
    "\n",
    "def subSComuTaula(cadena1, cadena2):\n",
    "    \n",
    "    \"\"\"\n",
    "    Aquest programa calcula la longitud de la subseqüència més llarga entre dos strings.\n",
    "    \"\"\"\n",
    "    \n",
    "    columnes = len(cadena1) + 1\n",
    "    files = len(cadena2) + 1\n",
    "    \n",
    "    #Creació de la matriu\n",
    "    taulaSolucions = [[0]*columnes for i in range(files)]\n",
    "    \n",
    "    #Omplim la matriu basant-nos en si els caràcters dels strings son iguals o no.\n",
    "    for i in range(1,files):\n",
    "        for j in range(1,columnes):\n",
    "            \n",
    "            #Si son iguals, se li suma 1 a la diagonal i s'assigna el valor a la matriu.\n",
    "            if cadena2[i-1] == cadena1[j-1]:\n",
    "                taulaSolucions[i][j] = taulaSolucions[i-1][j-1] + 1\n",
    "            \n",
    "            #Si no son iguals, s'assigna a la matriu el valor màxim entre els extrems.    \n",
    "            else:\n",
    "                taulaSolucions[i][j] = max(taulaSolucions[i][j-1],taulaSolucions[i-1][j])\n",
    "    \n",
    "\n",
    "    #Imprimim la matriu:\n",
    "    for i in range(0,files):\n",
    "        for j in range(0,columnes):  \n",
    "            print(taulaSolucions[i][j], end=\" \")\n",
    "        print(\"\")\n",
    "  \n",
    "    \n",
    "    longSubSequencia = taulaSolucions[files-1][columnes-1]\n",
    "    \n",
    "    return longSubSequencia\n",
    "    \n",
    "     \n",
    "subSComuTaula(\"SUBCADENA\",\"ABECEDARI\")    "
   ]
  },
  {
   "cell_type": "markdown",
   "metadata": {
    "lang": "ca"
   },
   "source": [
    "## Exercici 3\n",
    "Proposar una solució al mateix exercici, basant-te en els resultats de la taula anterior, que optimitzi l'espai que ocupa la solució, és a dir, guardant només aquells valors imprescindibles per a la solució."
   ]
  },
  {
   "cell_type": "markdown",
   "metadata": {
    "lang": "en"
   },
   "source": [
    "## Exercise 3\n",
    "Propose a solution to the same exercise, based on the results of the previous table, to optimize the space occupied by the solution, that is, keeping only those values ​​that are essential for the solution."
   ]
  },
  {
   "cell_type": "code",
   "execution_count": 199,
   "metadata": {
    "collapsed": true
   },
   "outputs": [],
   "source": [
    "# Substitueix la comanda pass pel teu codi\n",
    "# Aplica les directrius d'estil PEP8 i inclou comentaris inicials i entre línies\n",
    "\n",
    "def subSComuOpt(cadena1, cadena2):\n",
    "    \n",
    "    \"\"\"\n",
    "    Aquest programa calcula la longitud màxima de la subseqüència comuna\n",
    "    entre dos strings guardant només els valors imprescincibles per al càlcul.\n",
    "    \"\"\"\n",
    "    \n",
    "    longSubSequencia = 0\n",
    "    \n",
    "    #La variable index anterior serveix per guardar la j anterior i veure \n",
    "    #si es creua amb la següent.\n",
    "    indexAnterior = 0\n",
    "    \n",
    "    #Comparem caràcter per caràcter amb condicions que ens faran modificar o no la longitud.\n",
    "    for i in range(0,len(cadena1)):\n",
    "        for j in range(0,len(cadena2)):\n",
    "            \n",
    "            #Primer veiem si es creuen els indexs.\n",
    "            if indexAnterior > j:\n",
    "                esCreuen = True\n",
    "            else:\n",
    "                esCreuen = False\n",
    "            \n",
    "            #Si no es creuen els indexs, aleshores mirem que els caràcters siguin iguals.\n",
    "            if esCreuen == False:\n",
    "                #Si son iguals, la longitud de la subseqüència augmenta una unitat.\n",
    "                if cadena1[i] == cadena2[j]:\n",
    "                    longSubSequencia = longSubSequencia + 1\n",
    "                    #Finalment actualitzem el valor de l'últim índex que ha augmentat el valor longSubSequencia.\n",
    "                    indexAnterior = j\n",
    "                    \n",
    "    \"\"\"\n",
    "    La gracia d'aquest programa és que com que una subseqüència comú\n",
    "    conté caràcters en el mateix ordre que en cada string, si anem comparant\n",
    "    caràcter per caràcter evitant que es creuin l'anterior amb el següent,\n",
    "    ja hem guanyat.\n",
    "    \"\"\"\n",
    "                \n",
    "    return longSubSequencia\n"
   ]
  },
  {
   "cell_type": "code",
   "execution_count": 200,
   "metadata": {},
   "outputs": [
    {
     "data": {
      "text/plain": [
       "4"
      ]
     },
     "execution_count": 200,
     "metadata": {},
     "output_type": "execute_result"
    }
   ],
   "source": [
    "subSComuOpt(\"SUBCADENA\",\"ABECEDARI\")"
   ]
  },
  {
   "cell_type": "code",
   "execution_count": null,
   "metadata": {
    "collapsed": true
   },
   "outputs": [],
   "source": []
  }
 ],
 "metadata": {
  "kernelspec": {
   "display_name": "Python 3",
   "language": "python",
   "name": "python3"
  },
  "language_info": {
   "codemirror_mode": {
    "name": "ipython",
    "version": 3
   },
   "file_extension": ".py",
   "mimetype": "text/x-python",
   "name": "python",
   "nbconvert_exporter": "python",
   "pygments_lexer": "ipython3",
   "version": "3.6.1"
  },
  "nbTranslate": {
   "displayLangs": [
    "en"
   ],
   "hotkey": "alt-t",
   "langInMainMenu": true,
   "sourceLang": "ca",
   "targetLang": "en",
   "useGoogleTranslate": true
  }
 },
 "nbformat": 4,
 "nbformat_minor": 1
}
