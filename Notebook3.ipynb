{
 "cells": [
  {
   "cell_type": "markdown",
   "metadata": {
    "lang": "ca"
   },
   "source": [
    "# Notebook 3: Algorismes numèrics"
   ]
  },
  {
   "cell_type": "markdown",
   "metadata": {
    "lang": "en"
   },
   "source": [
    "# Notebook 3: Numerical algorithms"
   ]
  },
  {
   "cell_type": "markdown",
   "metadata": {
    "lang": "ca"
   },
   "source": [
    "### Mesura empírica del cost computacional\n",
    "timeit és un mòdul python que ens permet mesurar de forma aproximada el temps de procés d'unes linies de codi:\n"
   ]
  },
  {
   "cell_type": "markdown",
   "metadata": {
    "lang": "en"
   },
   "source": [
    "### Empirical measure of computational cost\n",
    "timeit is a python module that allows us to roughly measure the process time of some code lines:"
   ]
  },
  {
   "cell_type": "code",
   "execution_count": null,
   "metadata": {
    "collapsed": true
   },
   "outputs": [],
   "source": [
    "import timeit\n",
    "\n",
    "start_time = timeit.default_timer()\n",
    "func1()\n",
    "print(timeit.default_timer() - start_time)\n",
    "\n",
    "start_time = timeit.default_timer()\n",
    "func2()\n",
    "print(timeit.default_timer() - start_time)"
   ]
  },
  {
   "cell_type": "markdown",
   "metadata": {
    "lang": "ca"
   },
   "source": [
    "## Exercici 1\n",
    "\n",
    "### Màxim Comú Divisor (MCD)\n",
    "\n",
    "El Màxim Comú Divisor (MCD) de dos valors es pot calcular amb l’algorisme d’Euclides. Començant amb els valors $m$ i $n$, apliquem repetidament la fórmula ``n,m=m,n%m`` fins que $m$ és $0$. Llavors, $n$ és el MCD de $m$ i $n$. \n",
    "\n",
    "+ Escriu una funció, ``mcd``, que calculi el MCD de dos nombres enters "
   ]
  },
  {
   "cell_type": "markdown",
   "metadata": {
    "lang": "en"
   },
   "source": [
    "## Exercise 1\n",
    "\n",
    "### Common Maximum Divider (MCD)\n",
    "\n",
    "The Common Divisor Maximum (MCD) of two values ​​can be calculated using the Euclid algorithm. Starting with the values ​​$m$ and $n$, we repeatedly apply the formula `` n, m = m, n% m`` until $m$ is $0$. Then, $n$ is the MCD of $m$ and $n$.\n",
    "\n",
    "+ Write a function, `` mcd``, which calculates the MCD of two integers"
   ]
  },
  {
   "cell_type": "code",
   "execution_count": 1,
   "metadata": {
    "collapsed": true
   },
   "outputs": [],
   "source": [
    "# Substitueix la comanda pass pel teu codi\n",
    "\n",
    "def mcd(x,y):\n",
    "    \n",
    "    \"\"\"\n",
    "    Aquest programa calcula el màxim comú divisor de dos nombres x i y mitjançant \n",
    "    l'algorisme d'Euclides, que consisteix en anar realitzant divisions entre dos \n",
    "    nombres, assignant al dividend el divisor i al divisor el residu, fins que el residu de\n",
    "    la divisió és 0. Aleshores, l'últim divisor és el màxim comú divisor.\n",
    "    \"\"\"\n",
    "   \n",
    "    while x != 0:\n",
    "        y, x = x, y % x\n",
    "    maxComDiv = y\n",
    "    \n",
    "    return maxComDiv\n",
    "              "
   ]
  },
  {
   "cell_type": "code",
   "execution_count": 2,
   "metadata": {},
   "outputs": [
    {
     "data": {
      "text/plain": [
       "4"
      ]
     },
     "execution_count": 2,
     "metadata": {},
     "output_type": "execute_result"
    }
   ],
   "source": [
    "# Test de la funció\n",
    "\n",
    "mcd(12,8) #aquest exemple hauria de retornar (4)"
   ]
  },
  {
   "cell_type": "markdown",
   "metadata": {
    "lang": "ca"
   },
   "source": [
    "Escriu una funció ``mcdTemps`` que calculi el mcd i a més mostri per pantalla quan temps ha trigat a fer-ho."
   ]
  },
  {
   "cell_type": "markdown",
   "metadata": {
    "lang": "en"
   },
   "source": [
    "Write a `` mcdTemps`` function that calculates the mcd and also shows by screen how long it has taken to do it."
   ]
  },
  {
   "cell_type": "code",
   "execution_count": 140,
   "metadata": {
    "collapsed": true
   },
   "outputs": [],
   "source": [
    "# Substitueix la comanda pass pel teu codi\n",
    "import timeit\n",
    "def mcdTemps(x,y):\n",
    "    \n",
    "    \"\"\"\n",
    "    Aquest programa calcula el temps que el programa mcd(x,y) triga a calcular el màxim comú\n",
    "    divisor de dos nombres.\n",
    "    \"\"\"\n",
    "    \n",
    "    start = timeit.default_timer()\n",
    "    mcd(x,y)\n",
    "    end = timeit.default_timer()\n",
    "    print(\"El calcul ha tardat \" + str(end-start) + \" segons\")\n",
    "    \n",
    "    maxComDiv = mcd(x,y)\n",
    "    return maxComDiv"
   ]
  },
  {
   "cell_type": "code",
   "execution_count": 141,
   "metadata": {},
   "outputs": [
    {
     "name": "stdout",
     "output_type": "stream",
     "text": [
      "El calcul ha tardat 2.7779897209256887e-06 segons\n"
     ]
    },
    {
     "data": {
      "text/plain": [
       "4"
      ]
     },
     "execution_count": 141,
     "metadata": {},
     "output_type": "execute_result"
    }
   ],
   "source": [
    "# Test de la funció\n",
    "\n",
    "mcdTemps(12,8) #aquest exemple hauria de retornar (4) \n",
    "# i per pantalla hauria de mostrar els segons"
   ]
  },
  {
   "cell_type": "markdown",
   "metadata": {
    "lang": "ca"
   },
   "source": [
    "## Exercici 2\n",
    "\n",
    "### El sedàs d'Eratòstenes.\n",
    "\n",
    "El sedàs d'Eratòstenes és un algorisme antic per cercar tots els nombres primers fins a un determinat enter. Va ser creat per Eratòstenes (276-194 aC), un matemàtic de l'Antiga Grècia. Referència: http://ca.wikipedia.org/wiki/Sedàs_d'Eratòstenes.\n",
    "\n",
    "Algorisme:\n",
    "\n",
    "1. Escriu una llista $llista1$ amb els números del $2$ fins a l'enter més gran $N$ que vulguis calcular.\n",
    "2. El primer nombre de la llista és un nombre primer. Anota'l en una llista de nombres primers, $B$.\n",
    "3. Esborra de la llista $llista1$ el primer nombre i els seus múltiples.\n",
    "4. Si el primer nombre de la llista $llista1$ és més petit que l’arrel quadrada de $N$, torna al punt 2.\n",
    "5. Els nombres de la llista $llista2$ i els que queden a la llista $llista1$ són tots els nombres primers cercats.\n",
    "\n",
    "\n",
    "+ Escriu una funció, ``era1`` que, donat un nombre $n$ usi aquest algorisme per retornar tots els nombres primers menors o iguals que $n$ en una llista. "
   ]
  },
  {
   "cell_type": "markdown",
   "metadata": {
    "lang": "en"
   },
   "source": [
    "## Exercise 2\n",
    "\n",
    "### The Eratosthenes Seat.\n",
    "\n",
    "The Eratosthenes' sieve is an old algorithm to search for all the prime numbers to a certain integer. It was created by Eratosthenes (276-194 BC), a mathematician from Ancient Greece. Reference: http://ca.wikipedia.org/wiki/Sedàs_de'Eratosthenes.\n",
    "\n",
    "Algorithm:\n",
    "\n",
    "1. Write a $llista1$ list with the $2$ numbers to the largest $N$ integer you want to calculate.\n",
    "2. The first number in the list is a prime number. Write it to a list of prime numbers, $B$.\n",
    "3. Clear the first number and its multiple $llista1$ list.\n",
    "4. If the first number in the $llista1$ list is smaller than the square root of $N$, return to point 2.\n",
    "5. The numbers in the $llista2$ list and those in the $llista1$ list are all the prime numbers sought.\n",
    "\n",
    "\n",
    "+ Write a function, `` era1`` which, given a $n$ number, uses this algorithm to return all prime numbers smaller than or equal to $n$ in a list."
   ]
  },
  {
   "cell_type": "code",
   "execution_count": 4,
   "metadata": {
    "collapsed": true
   },
   "outputs": [],
   "source": [
    "# Substitueix la comanda pass pel teu codi\n",
    "import math\n",
    "\n",
    "def era1(n):\n",
    "    \n",
    "    \"\"\"\n",
    "    Aquest programa calcula els nombrs primers menors o iguals que n. El funcionament del \n",
    "    programa es basa en crear una llista de zeros de igual longitud a la llista dels n \n",
    "    números (amb el 0 i el 1) i marcar els números que correspondrien als primers de la \n",
    "    llista1 amb un 1. Finalment, aquests números s'afegeixen a la llista buida, llista3.   \n",
    "    \"\"\" \n",
    "    \n",
    "    llista1 = list(range(0,n+1)) #Llista de números\n",
    "    marca = [0]*(n+1) #Llista de zeros\n",
    "    llista3 = [] #Llista que utilitzarem per ficar els nombres primers\n",
    "    \n",
    "    #Ara farem l'algorisme d'Artòstenes per marcar els números primers.\n",
    "    i = 2\n",
    "    while i < math.sqrt(n):\n",
    "        if marca[i] == 0:\n",
    "            for j in range(i,int(n/i)+1):\n",
    "                marca[i*j] = 1    \n",
    "        i = i + 1\n",
    "    \n",
    "    #Ara afegirem els nombres primers a la llista buida.      \n",
    "    llista3 = [i for i in range(0,len(marca)) if marca[i] == 0]       \n",
    "    \n",
    "    #Eliminem el 1 i el 0, ja que no son primers.\n",
    "    llista3.remove(llista3[0])\n",
    "    llista3.remove(llista3[0])     \n",
    "    llistaPrimers = llista3\n",
    "      \n",
    "    return llistaPrimers      \n"
   ]
  },
  {
   "cell_type": "code",
   "execution_count": 5,
   "metadata": {},
   "outputs": [
    {
     "data": {
      "text/plain": [
       "[2, 3, 5, 7, 11]"
      ]
     },
     "execution_count": 5,
     "metadata": {},
     "output_type": "execute_result"
    }
   ],
   "source": [
    "# Test de la funció\n",
    "era1(11) #aquest exemple hauria de retornar [2, 3, 5, 7, 11] "
   ]
  },
  {
   "cell_type": "markdown",
   "metadata": {
    "lang": "ca"
   },
   "source": [
    "## Exercici 3\n",
    "\n",
    "+ Escriu una funció, ``era2``, que imprimeixi el temps que es triga a calcular mitjançant el sedàs d’Eratòstenes els nombres primers menors que $500.000$ i quants nombres primers hi ha. era2 ha d'aconseguir fer aquest càlcul en menys de 5 segons, i per fer-ho hauràs d'optimitzar el càlcul del sedàs. L'optimització pot suposar introduir petits canvis en l'algorisme sense alterar-ne l'essència però potser sí els passos i la manera de fer-los."
   ]
  },
  {
   "cell_type": "markdown",
   "metadata": {
    "lang": "en"
   },
   "source": [
    "## Exercise 3\n",
    "\n",
    "+ Write a function, `` era2``, which prints the time it takes to calculate the smaller prime numbers that are $500.000$ and how many prime numbers are calculated by using the Eratosthenian sieve. era2 must get this calculation in less than 5 seconds, and to do this you have to optimize the calculation of the sieve. Optimization may mean introducing small changes to the algorithm without altering the essence but perhaps the steps and the way to do them."
   ]
  },
  {
   "cell_type": "markdown",
   "metadata": {
    "lang": "ca"
   },
   "source": [
    "   + NOTA1: Comença per un nombre màxim més petit que 500.000 i ves pujant mica en mica.\n",
    "\n",
    "   + NOTA2: Si el càlcul fins a 500.000 triga més de 5 segons, digues fins a quin nombre arribes en 5 segons.\n",
    "   \n",
    "   + NOTA3: Revisa les comprehensions per fer l'algorisme més eficient\n",
    "   "
   ]
  },
  {
   "cell_type": "markdown",
   "metadata": {
    "lang": "en"
   },
   "source": [
    "+ NOTE1: Start with a maximum number that is smaller than 500,000 and you go up slightly.\n",
    "\n",
    "   + NOTE2: If the calculation up to 500,000 takes more than 5 seconds, tell how many you arrive in 5 seconds.\n",
    "   \n",
    "   + NOTE3: Check the comprehensions to make the algorithm more efficient"
   ]
  },
  {
   "cell_type": "code",
   "execution_count": 15,
   "metadata": {
    "collapsed": true
   },
   "outputs": [],
   "source": [
    "# Substitueix la comanda pass pel teu codi\n",
    "import timeit\n",
    "def era2(n):\n",
    "    \n",
    "    \"\"\"\n",
    "    Aquest programa calcula el temps que el programa era1 triga a calcular els primers\n",
    "    compresos entre 2 i 500000 i la quantitat de primers que calcula.\n",
    "    \"\"\"\n",
    "    \n",
    "    start = timeit.default_timer()\n",
    "    tantsprimers = len(era1(n))\n",
    "    end = timeit.default_timer()\n",
    "    temps = end-start\n",
    "  \n",
    "    \n",
    "    return (tantsprimers,temps)"
   ]
  },
  {
   "cell_type": "code",
   "execution_count": 16,
   "metadata": {},
   "outputs": [
    {
     "data": {
      "text/plain": [
       "(41538, 0.20851701199717354)"
      ]
     },
     "execution_count": 16,
     "metadata": {},
     "output_type": "execute_result"
    }
   ],
   "source": [
    "# Test de la funció\n",
    "era2(500000) "
   ]
  },
  {
   "cell_type": "markdown",
   "metadata": {
    "lang": "ca"
   },
   "source": [
    "\n",
    "## Exercici 4\n",
    "\n",
    "+ Escriu una funció ``factorp`` que comprovi si un determinat nombre $n$ és primer mitjançant la tècnica de la factorització i que imprimeixi quan temps ha trigat en calcular-ho (podeu usar el mètode explicat a http://www.purplemath.com/modules/factnumb.htm)."
   ]
  },
  {
   "cell_type": "markdown",
   "metadata": {
    "lang": "en"
   },
   "source": [
    "## Exercise 4\n",
    "\n",
    "+ Write a `` factorp`` function that checks if a certain number $n$ is first through the technique of the factorization and that it prints how long it has taken to calculate it (you can use the method explained in http: //www.purplemath. com / modules / factnumb.htm)."
   ]
  },
  {
   "cell_type": "code",
   "execution_count": 7,
   "metadata": {
    "collapsed": true
   },
   "outputs": [],
   "source": [
    "# Substitueix la comanda pass pel teu codi\n",
    "def factorp(n):\n",
    "    \n",
    "    \"\"\"\n",
    "    Aquest programa, donat un número n, diu si és primer o no mitjançant un booleà. També\n",
    "    calcula el temps que triga a fer-ho.\n",
    "    El funcionament del programa es basa en que si el nombre no és divisible per cap número\n",
    "    comprès entre 2 i l'arrel cuadrada de ell mateix, aleshores és primer.\n",
    "    \"\"\"\n",
    "    import math\n",
    "    import time\n",
    "    \n",
    "    start = timeit.default_timer()\n",
    "    \n",
    "    for i in range (2,int(math.sqrt(n))+1):\n",
    "        if n%i == 0:\n",
    "            esprimer = False\n",
    "            end = timeit.default_timer()\n",
    "            temps = end - start\n",
    "            return (esprimer,temps)\n",
    "    \n",
    "    esprimer = True\n",
    "    end = timeit.default_timer()\n",
    "    temps = end - start\n",
    "    return (esprimer,temps)\n"
   ]
  },
  {
   "cell_type": "code",
   "execution_count": 8,
   "metadata": {},
   "outputs": [
    {
     "data": {
      "text/plain": [
       "(True, 4.070010618306696e-06)"
      ]
     },
     "execution_count": 8,
     "metadata": {},
     "output_type": "execute_result"
    }
   ],
   "source": [
    "# Test de la funció\n",
    "factorp(7) #aquest exemple hauria de retornar (True, 5.13e-06) \n",
    "# el temps pot sortir lleugerament diferent i amb més decimals\n",
    "factorp(3) #aquest exemple hauria de retornar (True, 4.7e-06) \n",
    "# el temps pot sortir lleugerament diferent i amb més decimals"
   ]
  },
  {
   "cell_type": "markdown",
   "metadata": {
    "lang": "ca"
   },
   "source": [
    "## Exercici 5\n",
    "\n",
    "+ Escriu una funció, ``fermatp``, que comprovi si un determinat nombre $n$ és primer mitjançant la tècnica de Fermat amb valors $a=2, 3,  5$ (veure apunts de teoria). La funció ha d’escriure al final del test si és un nombre primer i el temps invertit en el càlcul."
   ]
  },
  {
   "cell_type": "markdown",
   "metadata": {
    "lang": "en"
   },
   "source": [
    "## Exercise 5\n",
    "\n",
    "+ Write a function, `` fermatp``, which checks if a certain number $n$ is first by means of the Fermat technique with values ​​$a=2, 3,  5$ (see theoretical notes). The function must be written at the end of the test if it is a prime number and the time spent in the calculation."
   ]
  },
  {
   "cell_type": "code",
   "execution_count": 17,
   "metadata": {
    "collapsed": true
   },
   "outputs": [],
   "source": [
    "# Substitueix la comanda pass pel teu codi\n",
    "def fermatp(n):\n",
    "    \n",
    "    \n",
    "    \"\"\"\n",
    "    Aquest programa diu si un nombre n és primer amb un booleà mitjançant el Teorema petit \n",
    "    de Fermat.\n",
    "    \"\"\"\n",
    "    \n",
    "    import timeit\n",
    "    \n",
    "    start = timeit.default_timer()\n",
    "    \n",
    "    #Si n és mes petit que 5, el programa ja no entra al if.\n",
    "    if n > 5:\n",
    "        \n",
    "        if 2**(n-1) % n == 1 % n and 3**(n-1) % n == 1 % n and 5**(n-1) % n == 1 % n:\n",
    "            esPrimer = True\n",
    "            end = timeit.default_timer()\n",
    "            temps = end - start\n",
    "            return (esPrimer,temps)\n",
    "    \n",
    "    esPrimer = False\n",
    "    end = timeit.default_timer()\n",
    "    temps = end - start\n",
    "    return (esPrimer,temps)"
   ]
  },
  {
   "cell_type": "code",
   "execution_count": 18,
   "metadata": {},
   "outputs": [
    {
     "data": {
      "text/plain": [
       "(True, 5.912006599828601e-06)"
      ]
     },
     "execution_count": 18,
     "metadata": {},
     "output_type": "execute_result"
    }
   ],
   "source": [
    "# Test de la funció\n",
    "fermatp(19) #aquest exemple hauria de retornar (True, 1.49e-05)\n",
    "# el temps pot sortir lleugerament diferent i amb més decimals"
   ]
  },
  {
   "cell_type": "code",
   "execution_count": null,
   "metadata": {
    "collapsed": true
   },
   "outputs": [],
   "source": []
  }
 ],
 "metadata": {
  "kernelspec": {
   "display_name": "Python 3",
   "language": "python",
   "name": "python3"
  },
  "language_info": {
   "codemirror_mode": {
    "name": "ipython",
    "version": 3
   },
   "file_extension": ".py",
   "mimetype": "text/x-python",
   "name": "python",
   "nbconvert_exporter": "python",
   "pygments_lexer": "ipython3",
   "version": "3.6.1"
  },
  "nbTranslate": {
   "displayLangs": [
    "en"
   ],
   "hotkey": "alt-t",
   "langInMainMenu": true,
   "sourceLang": "ca",
   "targetLang": "en",
   "useGoogleTranslate": true
  }
 },
 "nbformat": 4,
 "nbformat_minor": 1
}
