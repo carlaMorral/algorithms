{
 "cells": [
  {
   "cell_type": "markdown",
   "metadata": {
    "lang": "ca"
   },
   "source": [
    "# Notebook 2: Estructures de control i col.leccions. Instruccions bàsiques amb nombres i text."
   ]
  },
  {
   "cell_type": "markdown",
   "metadata": {
    "lang": "en"
   },
   "source": [
    "# Notebook 2: Control structures and collections. Basic instructions with numbers and text."
   ]
  },
  {
   "cell_type": "markdown",
   "metadata": {
    "lang": "ca"
   },
   "source": [
    "## Exercici 1\n",
    "\n",
    "+ Escriu, fent servir la instrucció ``while``, una funció, ``mentre``,  que calculi el següents valors:\n",
    "\n",
    "    +\tEl nombre de vegades que un nombre n pot ser dividir per $7$ abans d’arribar a $10$.\n",
    "    +\tLa multiplicació de tots els nombres enters positius dins **llista** fins a trobar un nombre negatiu. "
   ]
  },
  {
   "cell_type": "markdown",
   "metadata": {
    "lang": "en"
   },
   "source": [
    "## Exercise 1\n",
    "\n",
    "+ Write, using `` while``, a function, `` while``, that calculates the following values:\n",
    "\n",
    "    + The number of times a number n can be divided by $7$ before reaching $10$.\n",
    "    + The multiplication of all positive integers within **list** until you find a negative number."
   ]
  },
  {
   "cell_type": "code",
   "execution_count": 3,
   "metadata": {
    "collapsed": true
   },
   "outputs": [],
   "source": [
    "# Substitueix la comanda pass per la teva solució\n",
    "\n",
    "def mentre(n, llista):  \n",
    "    \n",
    "    quantesDivisions = 0\n",
    "    while n/7 >= 10:\n",
    "        n = n/7        \n",
    "        quantesDivisions = quantesDivisions+1\n",
    "    \n",
    "    j = 0\n",
    "    multLlista = 1\n",
    "    while llista[j] > 0:\n",
    "        multLlista = multLlista*llista[j]\n",
    "        j = j + 1\n",
    "        \n",
    "    return (quantesDivisions, multLlista)    \n",
    "    \n",
    "    \n",
    "    "
   ]
  },
  {
   "cell_type": "code",
   "execution_count": 4,
   "metadata": {},
   "outputs": [
    {
     "data": {
      "text/plain": [
       "(2, 10)"
      ]
     },
     "execution_count": 4,
     "metadata": {},
     "output_type": "execute_result"
    }
   ],
   "source": [
    "# Test de la funció\n",
    "\n",
    "mentre(490,[1,2,5,1,-3,2])\n",
    "# aquest exemple hauria de retornar (2, 10)"
   ]
  },
  {
   "cell_type": "markdown",
   "metadata": {
    "lang": "ca"
   },
   "source": [
    "## Exercici 2\n",
    "\n",
    "+ Escriu, fent servir la instrucció ``for``, una funció, ``per``,  que calculi el següents valors:\n",
    "    +\tLa suma dels n primers nombres parells sense incloure el 0\n",
    "    +   Una llista amb els n primers nombres senars\n",
    "\n",
    "Atenció: el problema s'ha de resoldre amb iteracions"
   ]
  },
  {
   "cell_type": "markdown",
   "metadata": {
    "lang": "en"
   },
   "source": [
    "## Exercise 2\n",
    "\n",
    "+ Write, using the `` for`` statement, a function, `` for ``, which calculates the following values:\n",
    "    + The sum of the first n even numbers without including 0\n",
    "    + A list with the first first odd numbers\n",
    "\n",
    "Attention: the problem must be resolved with iterations"
   ]
  },
  {
   "cell_type": "code",
   "execution_count": 5,
   "metadata": {
    "collapsed": true
   },
   "outputs": [],
   "source": [
    "# Substitueix la comanda pass per la teva solució\n",
    "\n",
    "def per(n):  \n",
    "\n",
    "    a = 0\n",
    "    suma = 0\n",
    "    for i in range (0,n,1):\n",
    "        a = a + 2\n",
    "        suma = suma + a\n",
    "           \n",
    "    \n",
    "    llista = []\n",
    "    b = -1\n",
    "    for j in range (0,n,1):\n",
    "        b = b + 2\n",
    "        \n",
    "        llista.append(int(b))\n",
    "    \n",
    "    return (suma,llista)"
   ]
  },
  {
   "cell_type": "code",
   "execution_count": 6,
   "metadata": {},
   "outputs": [
    {
     "data": {
      "text/plain": [
       "(30, [1, 3, 5, 7, 9])"
      ]
     },
     "execution_count": 6,
     "metadata": {},
     "output_type": "execute_result"
    }
   ],
   "source": [
    "# Test de la funció\n",
    "\n",
    "per(5)\n",
    "# aquest exemple hauria de retornar (30,[1,3,5,7,9])"
   ]
  },
  {
   "cell_type": "markdown",
   "metadata": {
    "lang": "ca"
   },
   "source": [
    "## Exercici 3\n",
    "\n",
    "+ Escriu una funció, ``inversio``, que usant el ``while`` calculi quan triga una inversió a triplicar el seu valor, donat un interès fix durant tot el període. L’entrada serà l’interès anual, i la sortida el nombre d’anys que trigarà una inversió a triplicar-se. Fixeu-vos que aquest període no depen de l'import de la inversió inicial.\n",
    "\n",
    "Atenció: cal tenir en compte que l'interès s'aplica al total acumulat, i que aquest va variant al llarg dels anys. Per exemple, si el primer any tenim 100€ i l'interès és del 10% anual, el segon any tindrem 110€ i el tercer 121..."
   ]
  },
  {
   "cell_type": "markdown",
   "metadata": {
    "lang": "en"
   },
   "source": [
    "## Exercise 3\n",
    "\n",
    "+ Write a function, `` inversio``, that using `` while`` calculates when it takes an investment to triple its value, given a fixed interest throughout the period. The entrance will be the annual interest, and the exit the number of years that will take an investment to triple. Note that this period does not depend on the amount of the initial investment.\n",
    "\n",
    "Attention: It is necessary to take into account that the interest is applied to the accumulated total, and that this one is varying throughout the years. For example, if the first year we have € 100 and the interest is 10% per annum, the second year we will have € 110 and the third one 121 ..."
   ]
  },
  {
   "cell_type": "code",
   "execution_count": 37,
   "metadata": {
    "collapsed": true
   },
   "outputs": [],
   "source": [
    "# Substitueix la comanda pass per la teva solució\n",
    "\n",
    "def inversio(interesfix):\n",
    "    \n",
    "    io = 1.0\n",
    "    ip = 3*io\n",
    "    anys = 0\n",
    "    while io <= ip:\n",
    "        io = (interesfix+1) * io\n",
    "        anys = anys + 1\n",
    "        \n",
    "    return anys "
   ]
  },
  {
   "cell_type": "code",
   "execution_count": 38,
   "metadata": {},
   "outputs": [
    {
     "data": {
      "text/plain": [
       "12"
      ]
     },
     "execution_count": 38,
     "metadata": {},
     "output_type": "execute_result"
    }
   ],
   "source": [
    "# Test de la funció\n",
    "inversio(0.10)\n",
    "# aquest exemple hauria de retornar 12"
   ]
  },
  {
   "cell_type": "markdown",
   "metadata": {
    "lang": "ca"
   },
   "source": [
    "## Exercici 4\n",
    "\n",
    "Un **acrònim** és una paraula formada al prendre les primeres lletres de les paraules d’una expressió (per exemple, l’acrònim ``RAM`` correspon a l'expressió ``random access memory``). \n",
    "\n",
    "+ Escriu una funció, ``acro``, que a partir d'una frase n'imprimeixi l’acrònim corresponent. Recorda que els acrònims, independentment de com l’usuari hagi entrat l'expressió, sempre són en majúscules.\n",
    "\n",
    "+ Pots suposar que l'usuari no entra ni signes de puntuació ni nombres"
   ]
  },
  {
   "cell_type": "markdown",
   "metadata": {
    "lang": "en"
   },
   "source": [
    "## Exercise 4\n",
    "\n",
    "An **acronym** is a word formed by taking the first letters of the words of an expression (for example, the acronym `` RAM`` corresponds to the expression `` random access memory`` ).\n",
    "\n",
    "+ Write a function, `` acro``, which from a phrase prints the corresponding acronym. Remember that the acronyms, regardless of how the user entered the expression, are always in uppercase.\n",
    "\n",
    "+ You can assume that the user does not enter either punctuation signs or names"
   ]
  },
  {
   "cell_type": "code",
   "execution_count": 150,
   "metadata": {
    "collapsed": true
   },
   "outputs": [],
   "source": [
    "# Substitueix la comanda pass per la teva solució\n",
    "\n",
    "def acro(frase):\n",
    "    \n",
    "    acronim = frase[0]+str.upper(frase[5])+str.upper(frase[9])\n",
    "    \n",
    "    return acronim"
   ]
  },
  {
   "cell_type": "code",
   "execution_count": 151,
   "metadata": {},
   "outputs": [
    {
     "name": "stdout",
     "output_type": "stream",
     "text": [
      "HQT\n"
     ]
    }
   ],
   "source": [
    "# Test de la funció\n",
    "\n",
    "print(acro(\"Hola que tal\"))  # Això hauria de retornar HQT"
   ]
  },
  {
   "cell_type": "markdown",
   "metadata": {
    "lang": "ca"
   },
   "source": [
    "## Exercici 5\n",
    "\n",
    "+\tEscriu una funció, `` dígits``, que compti quants dígits té una xifra determinada."
   ]
  },
  {
   "cell_type": "markdown",
   "metadata": {
    "lang": "en"
   },
   "source": [
    "## Exercise 5\n",
    "\n",
    "+ Write a function, `` digits``, which counts how many digits has a certain number."
   ]
  },
  {
   "cell_type": "code",
   "execution_count": 131,
   "metadata": {
    "collapsed": true
   },
   "outputs": [],
   "source": [
    "# Substitueix la comanda pass per la teva solució\n",
    "\n",
    "def digits(xifra):\n",
    "    \n",
    "    quantsDigits = 0\n",
    "    x = len(xifra)\n",
    "    for i in range(0, x, 1):\n",
    "        if xifra[i].isnumeric():\n",
    "            quantsDigits = quantsDigits + 1\n",
    "    \n",
    "    return quantsDigits"
   ]
  },
  {
   "cell_type": "code",
   "execution_count": 132,
   "metadata": {},
   "outputs": [
    {
     "name": "stdout",
     "output_type": "stream",
     "text": [
      "9\n"
     ]
    }
   ],
   "source": [
    "# Test de la funció\n",
    "\n",
    "print(digits(\"123.456.789\"))   # Hauria de retornar 9"
   ]
  },
  {
   "cell_type": "markdown",
   "metadata": {
    "lang": "ca"
   },
   "source": [
    "## Exercici 6\n",
    "\n",
    "+ Escriu una funció, ``nota``,  que, donat un nombre amb la qualificació numèrica d’un examen, proporcioni la qualificació qualitativa corresponent al nombre donat: \n",
    "     + Suspès = nota menor que 5; \n",
    "     + Aprovat = nota igual o més gran que 5 i menor que 7; \n",
    "     + Notable = nota més gran o igual que 7 i menor que 9; \n",
    "     + Excel.lent = nota més gran o igual que 9 i menor que 10; \n",
    "     + Matrícula d'honor = 10."
   ]
  },
  {
   "cell_type": "markdown",
   "metadata": {
    "lang": "en"
   },
   "source": [
    "## Exercise 6\n",
    "\n",
    "+ Write a function, `` note``, which, given a number with the numerical qualification of a test, provide the corresponding qualification corresponding to the given number:\n",
    "     + Suspended = less than 5;\n",
    "     + Approved = note equal to or greater than 5 and less than 7;\n",
    "     + Notable = note greater than or equal to 7 and less than 9;\n",
    "     + Excel = note greater than or equal to 9 and less than 10;\n",
    "     + Honor Registration = 10."
   ]
  },
  {
   "cell_type": "code",
   "execution_count": 7,
   "metadata": {
    "collapsed": true
   },
   "outputs": [],
   "source": [
    "# Substitueix la comanda pass per la teva solució\n",
    "\n",
    "def nota(num):\n",
    "    \n",
    "    \n",
    "    if num < 5:\n",
    "        return\"Suspès\"\n",
    "    elif num == 5 or num < 7:\n",
    "        return\"Aprovat\"\n",
    "    elif num >= 7 and num < 9:\n",
    "        return\"Notable\"\n",
    "    elif num >= 9 and num < 10:\n",
    "        return\"Excel·lent\"\n",
    "    elif num == 10:\n",
    "        return\"Matrícula d'honor\"\n",
    "    \n",
    "    "
   ]
  },
  {
   "cell_type": "code",
   "execution_count": 8,
   "metadata": {},
   "outputs": [
    {
     "data": {
      "text/plain": [
       "'Notable'"
      ]
     },
     "execution_count": 8,
     "metadata": {},
     "output_type": "execute_result"
    }
   ],
   "source": [
    "# Test de la funció\n",
    "\n",
    "nota(7.5)\n",
    "# aquest exemple hauria de retornar 'Notable'"
   ]
  },
  {
   "cell_type": "markdown",
   "metadata": {
    "lang": "ca"
   },
   "source": [
    "## Exercici 7\n",
    "\n",
    "+ Fes una funció, ``suma``, que sumi tots els nombres naturals parells menors que 10000. La funció ha de retornar el sumatori"
   ]
  },
  {
   "cell_type": "markdown",
   "metadata": {
    "lang": "en"
   },
   "source": [
    "## Exercise 7\n",
    "\n",
    "+ Perform a function, `` sum``, which adds all natural numbers even smaller than 10000. The function must return the summary"
   ]
  },
  {
   "cell_type": "code",
   "execution_count": 59,
   "metadata": {
    "collapsed": true
   },
   "outputs": [],
   "source": [
    "# Substitueix la comanda pass per la teva solució\n",
    "\n",
    "def suma():\n",
    "    \n",
    "    sumatori = 0\n",
    "    for i in range(2,10000,2):\n",
    "        sumatori = i + sumatori\n",
    "            \n",
    "    return sumatori"
   ]
  },
  {
   "cell_type": "code",
   "execution_count": 60,
   "metadata": {},
   "outputs": [
    {
     "data": {
      "text/plain": [
       "24995000"
      ]
     },
     "execution_count": 60,
     "metadata": {},
     "output_type": "execute_result"
    }
   ],
   "source": [
    "# Test de la funció\n",
    "\n",
    "suma()"
   ]
  },
  {
   "cell_type": "markdown",
   "metadata": {
    "lang": "ca"
   },
   "source": [
    "## Exercici 8\n",
    "\n",
    "+ Fes una funció, ``suma2``, que sumi tots els nombres naturals parells fins a un valor tal que la suma sigui just més gran que 10000. La funció ha de retornar el nombre parell més gran inclòs a la suma."
   ]
  },
  {
   "cell_type": "markdown",
   "metadata": {
    "lang": "en"
   },
   "source": [
    "## Exercise 8\n",
    "\n",
    "+ Perform a function, `` sum2``, which adds all the natural numbers even to a value such that the sum is just greater than 10000. The function must return the largest even number included in the sum."
   ]
  },
  {
   "cell_type": "code",
   "execution_count": 9,
   "metadata": {
    "collapsed": true
   },
   "outputs": [],
   "source": [
    "# Substitueix la comanda pass per la teva solució\n",
    "\n",
    "def suma2():\n",
    "    \n",
    "    suma = 0\n",
    "    nombreParellMajor = 0\n",
    "    while(suma < 10000):\n",
    "        nombreParellMajor = nombreParellMajor + 2\n",
    "        suma = nombreParellMajor + suma\n",
    "        \n",
    "        \n",
    "    return nombreParellMajor"
   ]
  },
  {
   "cell_type": "code",
   "execution_count": 10,
   "metadata": {},
   "outputs": [
    {
     "data": {
      "text/plain": [
       "200"
      ]
     },
     "execution_count": 10,
     "metadata": {},
     "output_type": "execute_result"
    }
   ],
   "source": [
    "# Test de la funció\n",
    "\n",
    "suma2()"
   ]
  },
  {
   "cell_type": "code",
   "execution_count": null,
   "metadata": {
    "collapsed": true
   },
   "outputs": [],
   "source": []
  }
 ],
 "metadata": {
  "kernelspec": {
   "display_name": "Python 3",
   "language": "python",
   "name": "python3"
  },
  "language_info": {
   "codemirror_mode": {
    "name": "ipython",
    "version": 3
   },
   "file_extension": ".py",
   "mimetype": "text/x-python",
   "name": "python",
   "nbconvert_exporter": "python",
   "pygments_lexer": "ipython3",
   "version": "3.6.1"
  },
  "nbTranslate": {
   "displayLangs": [
    "en"
   ],
   "hotkey": "alt-t",
   "langInMainMenu": true,
   "sourceLang": "ca",
   "targetLang": "en",
   "useGoogleTranslate": true
  }
 },
 "nbformat": 4,
 "nbformat_minor": 1
}
