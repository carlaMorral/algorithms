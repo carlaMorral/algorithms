{
 "cells": [
  {
   "cell_type": "markdown",
   "metadata": {
    "lang": "ca"
   },
   "source": [
    "# Notebook 5: Optimització i dividir i vèncer"
   ]
  },
  {
   "cell_type": "markdown",
   "metadata": {
    "lang": "en"
   },
   "source": [
    "# Notebook 5: Optimization and divide and conquer"
   ]
  },
  {
   "cell_type": "markdown",
   "metadata": {
    "lang": "ca"
   },
   "source": [
    "Els objectius d'aquesta pràctica són:\n",
    "\n",
    "- Aplicar algorismes de dividir i vèncer\n",
    "- Treballar tècniques d'optimització"
   ]
  },
  {
   "cell_type": "markdown",
   "metadata": {
    "lang": "en"
   },
   "source": [
    "The objectives of this practice are:\n",
    "\n",
    "- Apply algorithms to divide and defeat\n",
    "- Work optimization techniques"
   ]
  },
  {
   "cell_type": "markdown",
   "metadata": {
    "lang": "ca"
   },
   "source": [
    "## Exercici 1\n",
    "\n",
    "+ Direm que una paraula segueix un patró quan si alineem les lletres de les dues paraules una a una, a cada lletra de la paraula li correspon sempre la mateixa lletra del patró i viceversa.\n",
    "+ Per exemple mapa segueix el patró polo perquè a la m li correspon sempre p, a la a li correspon sempre o i a la p li correspon sempre l; i viceversa a la p li correspon sempre m, a la o sempre a, i  a la l sempre p.\n",
    "+ En canvi sisi no segueix el patró perquè a la s un cop li correspon p i un altre li correspon l\n",
    "+ i tampoc pipa no segueix el patró perquè a la o de polo un cop li correspon i, i un altre li correspon a\n",
    "\n",
    "Donada una llista de paraules i un patró, trobar totes les paraules de la llista que segueixen aquell patró. "
   ]
  },
  {
   "cell_type": "markdown",
   "metadata": {
    "lang": "en"
   },
   "source": [
    "## Exercise 1\n",
    "\n",
    "+ We will say that a word follows a pattern when we align the letters of the two words one by one, each letter of the word always corresponds to the same letter of the pattern and vice versa.\n",
    "+ For example, the map follows the pattern polo because the correspondence always corresponds to p, the one always corresponds to it and the p always corresponds to it; and vice versa to p always corresponds to me, at or always at, and at l always p.\n",
    "+ On the other hand, Sisi does not follow the pattern because at one time it corresponds to p and another corresponds to it\n",
    "+ And neither pipe does not follow the pattern because at or after the pole it corresponds and, and another corresponds to it\n",
    "\n",
    "Given a list of words and a pattern, find all the words in the list that follow that pattern."
   ]
  },
  {
   "cell_type": "code",
   "execution_count": 158,
   "metadata": {
    "collapsed": true,
    "scrolled": true
   },
   "outputs": [],
   "source": [
    "# Substitueix la comanda pass per la teva solució\n",
    "def triaPatro(llista, patro):\n",
    "    \"\"\"\n",
    "Donada una llista de paraules  i un patró,\n",
    "aquesta funció retorna totes les paraules que segueixen el patró.\n",
    ":param llista, una llista de paraules\n",
    ":param patro, una paraula que marca el patró per escollir les paraules\n",
    ":return llistaresultat, una llista amb les paraules escollides\n",
    "\"\"\" \n",
    "    llistaA = [] #Llista que ens servirà per afegir els elements que NO son el resultat.\n",
    "    for string in llista:\n",
    "        \n",
    "        #Ara creem una tupla per cada valor de la llista. Tindrem 5 tuples.\n",
    "        tup = (string,patro)\n",
    "\n",
    "        #Creem 2 llistes que contindran elements de cadascun dels strings de la llista. Tindran la mateixa longitud.\n",
    "        llistaI = [string[0]]\n",
    "        llistaJ = [patro[0]]\n",
    "        \n",
    "        for i,j in zip(string,patro):\n",
    "            \n",
    "            #Per cada element de la tupla es miren les següents condicions: \n",
    "            for k in range(0,len(llistaI)):\n",
    "                \n",
    "                #A les llistes llistaI i llistaJ s'hi van afegint elements si l'element j del patró i el i del string\n",
    "                #son diferents que per tot element que ja esta a la llista. Per això el for que la recorre.\n",
    "                if i != llistaI[k] and j != llistaJ[k]:\n",
    "                    llistaI.append(i)\n",
    "                    llistaJ.append(j)\n",
    "                \n",
    "                #Però ho deixa de ser en aquests casos:\n",
    "                elif (i != llistaI[k] and j == llistaJ[k]) or (i == llistaI[k] and j != llistaJ[k]):\n",
    "                    llistaA.append(string)\n",
    "    \n",
    "    \"\"\"\n",
    "    Es podria donar el cas que l'element i del string i el j del patro trobin en la mateixa posició\n",
    "    de les llistes llistaI i llistaJ un element igual. En aquest cas el string segueix tenint la\n",
    "    possibilitat de ser isomòrfic amb el patró.\n",
    "    \"\"\"\n",
    "                \n",
    "    #Ara crearem la llistaResultat, que contindrà els elements de la llista que no contingui la llistaA.\n",
    "    llistaResultat = []\n",
    "    for elem in llista:\n",
    "        if elem not in llistaA:\n",
    "            llistaResultat.append(elem)\n",
    "    \n",
    "    return llistaResultat\n",
    "\n",
    "assert(triaPatro(['gag','sos','mim','gat','gos'], 'rap') == ['gat','gos'])"
   ]
  },
  {
   "cell_type": "markdown",
   "metadata": {
    "lang": "ca"
   },
   "source": [
    "#### Calcula la seva complexitat\n",
    "\n",
    "O(n^3)"
   ]
  },
  {
   "cell_type": "markdown",
   "metadata": {
    "lang": "en"
   },
   "source": [
    "#### Calculate its complexity\n",
    "\n",
    "O (n ^ 3)"
   ]
  },
  {
   "cell_type": "markdown",
   "metadata": {
    "lang": "ca"
   },
   "source": [
    "## Exercici 2\n",
    "\n",
    "+ Escriu una funció no recursiva anomenada xifresilletres tal que donada una llista amb cadenes formades per xifres i per lletres la funció retorni la mateixa llista amb les cadenes de xifres  al capdavant i les cadenes de lletres al darrera. "
   ]
  },
  {
   "cell_type": "markdown",
   "metadata": {
    "lang": "en"
   },
   "source": [
    "## Exercise 2\n",
    "\n",
    "+ Write a non recursive function named xifresilletres such that given a list with strings formed by numbers and letters the function returns the same list with the chains of numbers at the top and the letters strings in the back."
   ]
  },
  {
   "cell_type": "markdown",
   "metadata": {
    "lang": "ca"
   },
   "source": [
    "### 2.1 \n",
    "Tenint en compte que les cadenes de text s'ordenen després de les de nombres, resol el problema per ordenació per selecció"
   ]
  },
  {
   "cell_type": "markdown",
   "metadata": {
    "lang": "en"
   },
   "source": [
    "### 2.1\n",
    "Given that the text strings are sorted after the numbers, it solves the problem by sorting by selection"
   ]
  },
  {
   "cell_type": "code",
   "execution_count": 49,
   "metadata": {
    "collapsed": true
   },
   "outputs": [],
   "source": [
    "def xifresilletresOrdSel(llista):\n",
    "    \"\"\"\n",
    "    Donada una llista, aquesta funció la retorna amb les xifres \n",
    "    al davant i les cadenes de lletres al darrera\n",
    "    :param llista: la llista original\n",
    "    :return llista: la llista reordenada\n",
    "    \"\"\"\n",
    " \n",
    "    for i in range(0,len(llista)-1):\n",
    "        minim = i\n",
    "        #Definim el minim.\n",
    "        for j in range(i+1,len(llista)):    \n",
    "            if llista[j] < llista[minim]:\n",
    "                minim = j\n",
    "        #Intercanviem els valors. Ara hem d'ordenar n-1 elements. Cada vegada 1 menys.\n",
    "        llista[i], llista[minim] = llista[minim], llista[i]\n",
    "    \n",
    "    return llista\n",
    "\n",
    "assert(xifresilletresOrdSel([\"345\",\"A\",\"555\",\"234\",\"aaaaaa\",\"666\"]\n",
    "                           )==['234', '345', '555', '666', 'A', 'aaaaaa'])\n"
   ]
  },
  {
   "cell_type": "markdown",
   "metadata": {
    "lang": "ca"
   },
   "source": [
    "Calcula la seva complexitat\n",
    "\n",
    "O(n^2)"
   ]
  },
  {
   "cell_type": "markdown",
   "metadata": {
    "lang": "en"
   },
   "source": [
    "Calculate its complexity\n",
    "\n",
    "O (n ^ 2)"
   ]
  },
  {
   "cell_type": "markdown",
   "metadata": {
    "lang": "ca"
   },
   "source": [
    "### 2.2 \n",
    "Resol el problema inspirant-te en la versió lineal de l'algorisme quicksort. Fixa't que en aquest cas no ens cal una ordenació completa, només cal moure els elements que estan fora de lloc."
   ]
  },
  {
   "cell_type": "markdown",
   "metadata": {
    "lang": "en"
   },
   "source": [
    "### 2.2\n",
    "Solve the problem by inspiring yourself in the linear version of the quicksort algorithm. Note that in this case we do not need a complete arrangement, just move the elements that are out of place."
   ]
  },
  {
   "cell_type": "code",
   "execution_count": 175,
   "metadata": {
    "collapsed": true
   },
   "outputs": [],
   "source": [
    "# Substitueix la comanda pass per la teva solució\n",
    "\n",
    "# Substitueix la comanda pass pel teu codi\n",
    "def xifresilletres(llista):\n",
    "    \"\"\"\n",
    "    Donada una llista, aquesta funció la retorna amb les xifres \n",
    "    al davant i les cadenes de lletres al darrera\n",
    "    :param llista: la llista original\n",
    "    :return llista: la llista reordenada\n",
    "    \"\"\"\n",
    "    i = 0\n",
    "    j = len(llista)-1\n",
    "    \n",
    "    #En aquesta variació del quiksort no cal pivot perquè només es classifiquen numeros i no números.\n",
    "    while not i >= j:\n",
    "        \n",
    "        #Verificarem les diferents opcions comparant els elements de la llista amb 'A' perquè si és més petit\n",
    "        #vol dir que és un número i si és més gran, una lletra.\n",
    "        if llista[i] >= 'A' and llista[j] >= 'A':\n",
    "            j -= 1\n",
    "        \n",
    "        if llista[i] < 'A' and llista[j] < 'A':   \n",
    "            i += 1\n",
    "        \n",
    "        if llista[i] < 'A' and llista[j] >= 'A':\n",
    "            j -= 1\n",
    "            i += 1\n",
    "            \n",
    "        else:\n",
    "            llista[i], llista[j] = llista[j], llista[i]\n",
    "\n",
    "    return llista\n",
    "\n",
    "assert(xifresilletres([\"345\",\"abc\",\"234\",\"HHH\",\"789\"])==['345', '789', '234', 'HHH', 'abc'])"
   ]
  },
  {
   "cell_type": "markdown",
   "metadata": {
    "lang": "ca"
   },
   "source": [
    "#### Calcula la seva complexitat\n",
    "O(n)"
   ]
  },
  {
   "cell_type": "markdown",
   "metadata": {
    "lang": "en"
   },
   "source": [
    "#### Calculate its complexity\n",
    "O (n)"
   ]
  },
  {
   "cell_type": "markdown",
   "metadata": {
    "lang": "ca"
   },
   "source": [
    "## Exercici 3\n",
    "\n",
    "+ Escriu un algorisme de dividir i conquerir, en la seva versió recursiva, karatsuba, que calculi la multiplicació pel mètode de Karatsuba (https://es.wikipedia.org/wiki/Algoritmo_de_Karatsuba). Calcula'n la complexitat. En què es basa aquest algorisme per dividir cada nombre en dos termes?"
   ]
  },
  {
   "cell_type": "markdown",
   "metadata": {
    "lang": "en"
   },
   "source": [
    "## Exercise 3\n",
    "\n",
    "+ Write an algorithm to divide and conquer, in its recursive version, karatsuba, which calculates the multiplication by the Karatsuba method (https://en.wikipedia.org/wiki/Algoritmo_de_ Karatsuba). Calculate complexity. What is this algorithm based on dividing each name into two terms?"
   ]
  },
  {
   "cell_type": "code",
   "execution_count": 172,
   "metadata": {
    "collapsed": true
   },
   "outputs": [],
   "source": [
    "# Substitueix la comanda pass per la teva solució\n",
    "import math\n",
    "def karatsuba(x,y):\n",
    "    \n",
    "    \"\"\"\n",
    "    Aquesta funció realitza la multiplicació de x,y de karatsuba en base 10\n",
    "    :param x,y nombres a multiplicar\n",
    "    :return el seu producte\n",
    "    \"\"\"\n",
    "        \n",
    "    if x < 10 or y < 10:\n",
    "        \n",
    "        return x * y\n",
    "\n",
    "    else:\n",
    "        #Aquí es determina el punt a partir del qual es 'partiran' els números.\n",
    "        n = max(len(str(x)),len(str(y)))\n",
    "        pot = n // 2\n",
    "        \n",
    "        #La a i la c representen la 'primera part' del número, mentre que la b i la d la segona.\n",
    "        a = x // 10**(pot)\n",
    "        b = x % 10**(pot)\n",
    "        c = y // 10**(pot)\n",
    "        d = y % 10**(pot)\n",
    "        \n",
    "        ac = karatsuba(a,c)\n",
    "        bd = karatsuba(b,d)\n",
    "        sumaResta = karatsuba(a+b,c+d) - ac - bd\n",
    "        \n",
    "        prod = ac * 10**(2 * pot) + (sumaResta * 10**pot) + bd\n",
    "    \n",
    "        return prod\n",
    "    \n",
    "assert(karatsuba(123,4578)==563094)"
   ]
  },
  {
   "cell_type": "markdown",
   "metadata": {
    "lang": "ca"
   },
   "source": [
    "#### Calcula la seva complexitat\n",
    "n^log3 (en base 2)\n",
    "\n",
    "Aquest algorisme divideix cada nombre en dos termes basant-se en la propietat distributiva, ja \n",
    "que es crida a la funcio karatsuba(a+b,c+d), i per prop distributiva queden els termes\n",
    "ad i bc, despres de restar els termes ac i bd de la multiplicacio (a+b)(c+d)."
   ]
  },
  {
   "cell_type": "markdown",
   "metadata": {
    "lang": "en"
   },
   "source": [
    "#### Calculate its complexity\n",
    "n ^ log3 (in base 2)\n",
    "\n",
    "This algorithm divides each number into two terms based on the distributive property, already\n",
    "That call to Karatsuba function (a + b, c + d), and by distributive prop the terms remain\n",
    "ad i bc, after subtracting the terms ac and bd of the multiplication (a + b) (c + d)."
   ]
  },
  {
   "cell_type": "markdown",
   "metadata": {
    "lang": "ca"
   },
   "source": [
    "## Exercici 4: Patró binari"
   ]
  },
  {
   "cell_type": "markdown",
   "metadata": {
    "lang": "en"
   },
   "source": [
    "## Exercise 4: Binary pattern"
   ]
  },
  {
   "cell_type": "markdown",
   "metadata": {
    "lang": "ca"
   },
   "source": [
    "Donat un patró binari amb alguns dígits com ?, trobeu totes les possibles combinacions de nombres binaris que es poden obtenir reemplaçant el ? amb 0 o 1."
   ]
  },
  {
   "cell_type": "markdown",
   "metadata": {
    "lang": "en"
   },
   "source": [
    "Given a binary pattern with some digits like?, Find all the possible combinations of binary numbers that can be obtained by replacing it? with 0 or 1."
   ]
  },
  {
   "cell_type": "code",
   "execution_count": 168,
   "metadata": {
    "collapsed": true
   },
   "outputs": [],
   "source": [
    "def patroBinariRec(patro):\n",
    "\n",
    "    \"\"\"\n",
    "    Aquesta funció genera totes les combinacions de nombres binaris a partir del\n",
    "    patró donat reemplaçant el ? amb 0 i 1\n",
    "    :param patro el nombre binari original amb algunes posicions amb ?\n",
    "    :return no retorna res, mostra per pantalla les combinacions generades\n",
    "    \"\"\"\n",
    "    \n",
    "    \"\"\"\n",
    "    Funció recursiva amb un sol paràmetre, el patró.\n",
    "    \"\"\"\n",
    "    \n",
    "    #Cas inicial. Quan el nombre d'? a la llista és 1 imprimim les dues solucions possibles.\n",
    "    if patro.count('?') == 1:\n",
    "        \n",
    "        for i in range(0,len(patro)):\n",
    "            \n",
    "            if patro[i] == '?':\n",
    "                patro[i] = '0'\n",
    "                print(patro)\n",
    "                patro[i] = '1'\n",
    "                print(patro)\n",
    "    \n",
    "    #La funció entra al else en la primera crida i des d'alla fa les següents crides recursives, en total en son 11.\n",
    "    else:\n",
    "        \n",
    "        for i in range(0,len(patro)):\n",
    "            \n",
    "            if patro[i] == '?':\n",
    "                patro[i] = '0'\n",
    "                patroBinariRec(patro[:])\n",
    "                patro[i] = '1'\n",
    "                patroBinariRec(patro)\n",
    "    "
   ]
  },
  {
   "cell_type": "code",
   "execution_count": 169,
   "metadata": {},
   "outputs": [
    {
     "name": "stdout",
     "output_type": "stream",
     "text": [
      "['1', '0', '1', '0', '0']\n",
      "['1', '0', '1', '0', '1']\n",
      "['1', '0', '1', '1', '0']\n",
      "['1', '0', '1', '1', '1']\n",
      "['1', '1', '1', '0', '0']\n",
      "['1', '1', '1', '0', '1']\n",
      "['1', '1', '1', '1', '0']\n",
      "['1', '1', '1', '1', '1']\n"
     ]
    }
   ],
   "source": [
    "patroBinari(['1','?','1','?','?'])"
   ]
  },
  {
   "cell_type": "code",
   "execution_count": null,
   "metadata": {
    "collapsed": true
   },
   "outputs": [],
   "source": []
  }
 ],
 "metadata": {
  "kernelspec": {
   "display_name": "Python 3",
   "language": "python",
   "name": "python3"
  },
  "language_info": {
   "codemirror_mode": {
    "name": "ipython",
    "version": 3
   },
   "file_extension": ".py",
   "mimetype": "text/x-python",
   "name": "python",
   "nbconvert_exporter": "python",
   "pygments_lexer": "ipython3",
   "version": "3.6.1"
  },
  "nbTranslate": {
   "displayLangs": [
    "en"
   ],
   "hotkey": "alt-t",
   "langInMainMenu": true,
   "sourceLang": "ca",
   "targetLang": "en",
   "useGoogleTranslate": true
  }
 },
 "nbformat": 4,
 "nbformat_minor": 1
}
