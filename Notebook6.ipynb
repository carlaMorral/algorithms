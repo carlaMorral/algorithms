{
 "cells": [
  {
   "cell_type": "markdown",
   "metadata": {
    "lang": "ca"
   },
   "source": [
    "# Notebook 6: Cerca i optimització"
   ]
  },
  {
   "cell_type": "markdown",
   "metadata": {
    "lang": "en"
   },
   "source": [
    "# Notebook 6: Search and optimization"
   ]
  },
  {
   "cell_type": "markdown",
   "metadata": {
    "lang": "ca"
   },
   "source": [
    "# Exercici 1. Cercar valor en una matriu quadrada\n",
    "\n",
    "Buscar un valor en una matriu quadrada usant força bruta i després trobar un algorisme optimitzat. Per comparar àmbdues estratègies calcularem la complexitat i també mesurarem el temps real amb la funció timeit que ja heu vist a problemes.\n",
    "\n",
    "Per ex. una possible matriu podria ser:\n",
    "\n",
    "|       | col0  | col1  | col2  | col3  | col4  |\n",
    "|-------|-------|-------|-------|-------|-------|\n",
    "| fil0  |    1  |    2  |    3  |    4  |    5  |\n",
    "| fil1  |   11  |   12  |   13  |   14  |   15  |\n",
    "| fil2  |   21  |   22  |   23  |   24  |   25  |\n",
    "| fil3  |   31  |   32  |   33  |   34  |   35  |\n",
    "| fil4  |   41  |   42  |   43  |   44  |   45  |\n",
    "   "
   ]
  },
  {
   "cell_type": "markdown",
   "metadata": {
    "lang": "en"
   },
   "source": [
    "# Exercise 1. Find value in a square matrix\n",
    "\n",
    "Find a value in a square matrix using brute force and then find an optimized algorithm. In order to compare these strategies we will calculate the complexity and we will also measure the real time with the timeit function that you have already seen in problems.\n",
    "\n",
    "For example a possible array could be:\n",
    "\n",
    "\n",
    "|       | col0  | col1  | col2  | col3  | col4  |\n",
    "|-------|-------|-------|-------|-------|-------|\n",
    "| fil0  |    1  |    2  |    3  |    4  |    5  |\n",
    "| fil1  |   11  |   12  |   13  |   14  |   15  |\n",
    "| fil2  |   21  |   22  |   23  |   24  |   25  |\n",
    "| fil3  |   31  |   32  |   33  |   34  |   35  |\n",
    "| fil4  |   41  |   42  |   43  |   44  |   45  |"
   ]
  },
  {
   "cell_type": "markdown",
   "metadata": {
    "lang": "ca"
   },
   "source": [
    "### Exercici 1.1 Força bruta"
   ]
  },
  {
   "cell_type": "markdown",
   "metadata": {
    "lang": "en"
   },
   "source": [
    "### Exercise 1.1 Gross strength"
   ]
  },
  {
   "cell_type": "markdown",
   "metadata": {
    "lang": "ca"
   },
   "source": [
    "Farem un algorisme bàsic, sense tenir en compte que la matriu està ordenada.\n",
    "El cost en el cas pitjor serà d'$O(n^2)$, on n és el nombre d'elements d'una fila."
   ]
  },
  {
   "cell_type": "markdown",
   "metadata": {
    "lang": "en"
   },
   "source": [
    "We will do a basic algorithm, without taking into account that the array is ordered.\n",
    "The worst case cost will be $O(n^2)$, where n is the number of elements in a row."
   ]
  },
  {
   "cell_type": "code",
   "execution_count": 33,
   "metadata": {
    "collapsed": true
   },
   "outputs": [],
   "source": [
    "def buscarValor(squareMatrix,searchEle):\n",
    "    \n",
    "    #Simplement fem un algorisme de força bruta amb dos fors per verificar si l'element està a la matriu.\n",
    "    for i in range(0,len(squareMatrix)):\n",
    "        for j in range(0,len(squareMatrix)):\n",
    "            if squareMatrix[i][j] == searchEle:\n",
    "                return (i,j)"
   ]
  },
  {
   "cell_type": "code",
   "execution_count": 34,
   "metadata": {},
   "outputs": [
    {
     "name": "stdout",
     "output_type": "stream",
     "text": [
      "(3, 1)\n",
      "The slowest run took 6.65 times longer than the fastest. This could mean that an intermediate result is being cached.\n",
      "100000 loops, best of 3: 5.54 µs per loop\n"
     ]
    }
   ],
   "source": [
    "squareMatrix=[[1,2,3,4,5,6,7,8,9,10],[11,12,13,14,15,16,17,18,19,20],\n",
    "              [21,22,23,24,25,26,27,28,29,30],[31,32,33,34,35,36,37,38,39,40],\n",
    "              [41,42,43,44,45,46,47,48,49,50],[51,52,53,54,55,56,57,58,59,60],\n",
    "              [61,62,63,64,65,66,67,68,69,70],[71,72,73,74,75,76,77,78,79,80],\n",
    "              [81,82,83,84,85,86,87,88,89,90],[91,92,93,94,95,96,97,98,99,100]]\n",
    "searchEle=32\n",
    "print(buscarValor(squareMatrix,searchEle))\n",
    "import time\n",
    "%timeit(buscarValor(squareMatrix,searchEle))"
   ]
  },
  {
   "cell_type": "markdown",
   "metadata": {
    "lang": "ca"
   },
   "source": [
    "### Exercici 1.2: Optimització"
   ]
  },
  {
   "cell_type": "markdown",
   "metadata": {
    "lang": "en"
   },
   "source": [
    "### Exercise 1.2: Optimization"
   ]
  },
  {
   "cell_type": "markdown",
   "metadata": {
    "lang": "ca"
   },
   "source": [
    "En aquest exercici repetirem l'algorisme anterior però aprofitarem el fet que la matriu està ordenada per buscar la solució d'una manera més eficient, fins aconseguir un algorisme d'O(n)."
   ]
  },
  {
   "cell_type": "markdown",
   "metadata": {
    "lang": "en"
   },
   "source": [
    "In this exercise we will repeat the previous algorithm but we will take advantage of the fact that the matrix is ​​ordered to look for the solution in a more efficient way, until obtaining an algorithm of O (n)."
   ]
  },
  {
   "cell_type": "code",
   "execution_count": 31,
   "metadata": {
    "collapsed": true
   },
   "outputs": [],
   "source": [
    "import time\n",
    "\n",
    "def buscarValorOpt(squareMatrix,searchEle):\n",
    "    \n",
    "    #Aquest algorisme fa màxim n vegades el primer for, i quan entra al if fa n vegades un altre for.\n",
    "    #Per tant, és un algorisme 2n (com a màxim), és a dir, O(n).\n",
    "    for i in range(0,len(squareMatrix)):\n",
    "        if squareMatrix[i][-1] >= searchEle and squareMatrix[i][0] <= searchEle:\n",
    "            for j in range(0,len(squareMatrix)):\n",
    "                if squareMatrix[i][j] == searchEle:\n",
    "                    return  (i,j)\n"
   ]
  },
  {
   "cell_type": "code",
   "execution_count": 32,
   "metadata": {},
   "outputs": [
    {
     "name": "stdout",
     "output_type": "stream",
     "text": [
      "(6, 5)\n",
      "100000 loops, best of 3: 2.86 µs per loop\n"
     ]
    }
   ],
   "source": [
    "squareMatrix=[[1,2,3,4,5,6,7,8,9,10],[11,12,13,14,15,16,17,18,19,20],\n",
    "              [21,22,23,24,25,26,27,28,29,30],[31,32,33,34,35,36,37,38,39,40],\n",
    "              [41,42,43,44,45,46,47,48,49,50],[51,52,53,54,55,56,57,58,59,60],\n",
    "              [61,62,63,64,65,66,67,68,69,70],[71,72,73,74,75,76,77,78,79,80],\n",
    "              [81,82,83,84,85,86,87,88,89,90],[91,92,93,94,95,96,97,98,99,100]]\n",
    "searchEle=66\n",
    "print(buscarValorOpt(squareMatrix,searchEle))\n",
    "import time\n",
    "%timeit(buscarValorOpt(squareMatrix,searchEle))"
   ]
  },
  {
   "cell_type": "markdown",
   "metadata": {
    "lang": "ca"
   },
   "source": [
    "## Exercici 2: trobar el major i menor relatiu a un nombre en una llista ordenada de nombres naturals.\n",
    "\n",
    "El major i menor relatiu són el nombre previ més petit o igual a ell, i el nombre següent més gran o igual a ell, o -1 si no n'hi ha.\n",
    "\n",
    "Per ex:\n",
    "\n",
    "llista=[1,4,6,8,9]\n",
    "\n",
    "+ minMax(3) => El menor és 1, el major és 4\n",
    "+ minMax(4) => El menor és 4, el major és 4\n",
    "+ minMax(5) => El menor és 4, el major és 6\n",
    "+ minMax(10) => El menor és 9, el major és -1\n",
    "\n",
    "Trobeu una solució d'ordre O(log n) i demostreu que té aquest ordre."
   ]
  },
  {
   "cell_type": "markdown",
   "metadata": {
    "lang": "en"
   },
   "source": [
    "## Exercise 2: Find the largest and the lowest relative to a number in an ordered list of natural numbers.\n",
    "\n",
    "The relative major and minor are the previous number smaller or equal to him, and the next number greater or equal to him, or -1 if there is none.\n",
    "\n",
    "For example:\n",
    "\n",
    "list = [1,4,6,8,9]\n",
    "\n",
    "+ minMax (3) => The minor is 1, the greater is 4\n",
    "+ minMax (4) => The minor is 4, the greater is 4\n",
    "+ minMax (5) => The minor is 4, the highest is 6\n",
    "+ minMax (10) => The minor is 9, the greater is -1\n",
    "\n",
    "Find an order solution O (log n) and show that you have this order."
   ]
  },
  {
   "cell_type": "code",
   "execution_count": 205,
   "metadata": {
    "collapsed": true
   },
   "outputs": [],
   "source": [
    "def minMax(k,nums,low,high):\n",
    "    \n",
    "    \"\"\"\n",
    "    Apliquem cerca binaria, però a l'hora de cridar a la funció corresponent agafem l'element del mig.\n",
    "    Això ho fem perquè a part de saber si l'element està a la llista hem de retornar el mínim i el màxim.\n",
    "    La complexitat, per tant, és O(logn), ja que la base principal de l'algorisme és la cerca binària.\n",
    "    \"\"\"\n",
    "    \n",
    "    #Aquesta primera comparació ens serveix pels casos en què hem de retornar -1.\n",
    "    if k < llista[0]:\n",
    "        return (-1, llista[0])\n",
    "    elif k > llista[-1]:\n",
    "        return (llista[-1],-1)\n",
    "    \n",
    "    #Això es fa en cas que l'element k no estigui a la llista i no es compleixin cap de les condicions anteriors.\n",
    "    if (len(nums) == 2 and nums[0] < k and nums[1] > k):\n",
    "        return (nums[0],nums[1])\n",
    "    \n",
    "    #A partir d'aqui ja seria la cerca binaria.\n",
    "    mid = len(nums) // 2\n",
    "    if nums[mid] == k:\n",
    "        return (nums[mid],nums[mid])\n",
    "    \n",
    "    elif k < nums[mid]:\n",
    "        return minMax(k,nums[0:mid+1],0,mid)\n",
    "    \n",
    "    else:\n",
    "        return minMax(k,nums[mid:],0,len(nums[mid:])-1)\n"
   ]
  },
  {
   "cell_type": "code",
   "execution_count": 206,
   "metadata": {},
   "outputs": [
    {
     "data": {
      "text/plain": [
       "(6, 8)"
      ]
     },
     "execution_count": 206,
     "metadata": {},
     "output_type": "execute_result"
    }
   ],
   "source": [
    "llista=[1,4,6,8,9]\n",
    "minMax(7,llista,0,4)"
   ]
  },
  {
   "cell_type": "markdown",
   "metadata": {
    "lang": "ca"
   },
   "source": [
    "## Exercici 3: Reemplaçar cada element d'una llista pel producte de la resta d'elements sense usar mai la divisió\n",
    "\n",
    "Per exemple:\n",
    "\n",
    "llista=[1, 2, 3, 4, 5] ha de retornar [120, 60, 40, 30, 24]\n",
    "\n",
    "i\n",
    "\n",
    "[5, 3, 2, 4, 2, 6, 8] ha de retornar [1152, 1920, 1440, 2880, 960, 720]\n",
    "\n",
    "Trobeu una solució d'ordre O(n) i demostreu que té aquest ordre."
   ]
  },
  {
   "cell_type": "markdown",
   "metadata": {
    "lang": "en"
   },
   "source": [
    "## Exercise 3: Replace each element of a list for the product of the rest of the elements without ever using the division\n",
    "\n",
    "For example:\n",
    "\n",
    "list = [1, 2, 3, 4, 5] must return [120, 60, 40, 30, 24]\n",
    "\n",
    "i\n",
    "\n",
    "[5, 3, 2, 4, 2, 6, 8] must return [1152, 1920, 1440, 2880, 960, 720]\n",
    "\n",
    "Find an order solution O (n) and prove that you have this order."
   ]
  },
  {
   "cell_type": "code",
   "execution_count": 209,
   "metadata": {
    "collapsed": true
   },
   "outputs": [],
   "source": [
    "def producte(nums):\n",
    "    \n",
    "    #Creem dues llistes de uns, que ens serviran per anar multiplicant els elements corresponents al mateix índex.\n",
    "    llista1 = [1 for i in range(0,len(nums))]\n",
    "    llista2 = [1 for i in range(0,len(nums))]\n",
    "    \n",
    "    #La llista1 la omplim de manera que l'element iessim és la multiplicació de tots els anteriors.\n",
    "    for i in range(1, len(llista1)):\n",
    "        llista1[i] = nums[i-1]*llista1[i-1]\n",
    "    \n",
    "    #La llista2 la omplim de manera que l'element iessim és la multiplicació de tots els anteriors, començant pel final.\n",
    "    for j in range(len(llista2)-2,-1,-1):\n",
    "        llista2[j] = nums[j+1]*llista2[j+1]\n",
    "    \n",
    "    #Aqui ja fem les multiplicacions\n",
    "    for i in range(0,len(nums)):\n",
    "        nums[i] = llista1[i]*llista2[i]\n",
    "    \n",
    "    return nums\n",
    "\n",
    "    \"\"\"\n",
    "    Aquest algorisme és O(n), ja que es fan 3 fors i la creació de les dues llistes. I les multiplicacions no \n",
    "    son n^2, ja que la longitud dels números és molt més petia que la de la llista.\n",
    "    \n",
    "    \"\"\""
   ]
  },
  {
   "cell_type": "code",
   "execution_count": 210,
   "metadata": {},
   "outputs": [
    {
     "data": {
      "text/plain": [
       "[1152, 1920, 2880, 1440, 960, 720]"
      ]
     },
     "execution_count": 210,
     "metadata": {},
     "output_type": "execute_result"
    }
   ],
   "source": [
    "nums=[5,3,2,4,6,8]\n",
    "producte(nums)"
   ]
  },
  {
   "cell_type": "markdown",
   "metadata": {
    "lang": "ca"
   },
   "source": [
    "## Exercici 4: Levensthein"
   ]
  },
  {
   "cell_type": "markdown",
   "metadata": {
    "lang": "en"
   },
   "source": [
    "## Exercise 4: Levensthein"
   ]
  },
  {
   "cell_type": "markdown",
   "metadata": {
    "lang": "ca"
   },
   "source": [
    "+ Fes una funció, anomenada ``dna``, basada en l’algorisme de Levenshtein, que busqui dins de **cada una de les línies d'un fitxer donat** les següents seqüències genètiques i digui a quina línia les ha trobat amb mínima distància i quina és aquesta distància (si està a varies línies, que indiqui la primera línia en la que apareix a distància mínima):\n",
    "\n",
    "        AGATACATTAGAACAATAGAGATGTGGTC\n",
    "        GTCAGTCTGGCACTTGCCATTGGTGCCACCA\n",
    "        TACCGAGAAGCATGGATTACAGCATGTACCATCAT\n",
    "        \n",
    "Al fer-ho, has de tenir en compte que a les aplicacions bioinformàtiques, els costos de les operacions d’edició són lleugerament diferents de les que hem vist fins ara:\n",
    "\n",
    "+ Per un salt/inserció (al patró o al text): 2; \n",
    "+ Per una substitució: 1; \n",
    "+ Quan hi ha correspondència: 0.\n",
    "Com a entrada li passarem una llista de patrons i el nom del fitxer on bucar-los. Com a sortida ha de treure per cada patró:  el patró, la línia i distància mínimes dins el fitxer, i el temps de càlcul."
   ]
  },
  {
   "cell_type": "markdown",
   "metadata": {
    "lang": "en"
   },
   "source": [
    "+ Perform a function, called `` dna``, based on the Levenshtein algorithm, which looks for the following genetic sequences within **each of the lines of a given file** and say what Line has found them with minimal distance and what is this distance (if it is in several lines, which indicates the first line in which it appears at a minimum distance):\n",
    "\n",
    "        AGATACATTAGAACAATAGAGATGTGGTC\n",
    "        GTCAGTCTGGCACTTGCCATTGGTGCCACCA\n",
    "        TACCGAGAAGCATGGATACAGCATGTACCATCAT\n",
    "        \n",
    "In doing so, you have to keep in mind that in bioinformatics applications, the costs of editing operations are slightly different from those we have seen so far:\n",
    "\n",
    "+ For a jump / insertion (to the pattern or text): 2;\n",
    "+ For a replacement: 1;\n",
    "+ When there is correspondence: 0.\n",
    "As an entry we will pass a list of patterns and the name of the file where you browse them. As output you have to remove for each pattern: the pattern, the minimum line and distance in the file, and the calculation time."
   ]
  },
  {
   "cell_type": "code",
   "execution_count": 31,
   "metadata": {
    "collapsed": true
   },
   "outputs": [],
   "source": [
    "import time\n",
    "\n",
    "def dna(llistaP, fitxer):\n",
    "    \n",
    "    #Iniciem el temps\n",
    "    t1 = time.clock()\n",
    "    \n",
    "    #Els costos d'edicio\n",
    "    dlt, insr, subs = 2, 2, 1\n",
    "    \n",
    "    #Index de patro\n",
    "    indp = 0\n",
    "\n",
    "    #Llista on guardarem els resultats\n",
    "    linia = [0]*(len(llistaP)+1)  # per comoditat treballarem amb índex d'1 a... i descartarem l'índex 0\n",
    "    distancia = [0]\n",
    "    \n",
    "    #Carreguem el fitxer\n",
    "    f = open(fitxer,\"r\")\n",
    "    textl = f.readlines()\n",
    "    f.close()\n",
    "\n",
    "    #Bucle per a cada patro\n",
    "    for patro in llistaP:\n",
    "        \n",
    "        #Sumem 1 al index del patro\n",
    "        indp += 1\n",
    "        \n",
    "        #Calculem la llargada del patro\n",
    "        patro_length = len(patro) + 1\n",
    "        \n",
    "        #Proposem una distancia maxima\n",
    "        distancia.append(patro_length)\n",
    "\n",
    "        #Index de linia\n",
    "        ind = 0\n",
    "        \n",
    "        #Per a cada linia\n",
    "        for line in textl:\n",
    "            #Sumem un al index de linia\n",
    "            ind += 1\n",
    "            #Eliminem els caracters sobrants \\n\n",
    "            text = line[0:-2]\n",
    "            #Mirem la llargada de la linia\n",
    "            text_length = len(text) + 1  \n",
    "            \n",
    "            #Apliquem levenshtein\n",
    "            \n",
    "            #inicialitzem la matriu\n",
    "            distance_matrix = [[0] * text_length for x in range(patro_length)]\n",
    "            for i in range(patro_length):\n",
    "                distance_matrix[i][0] = i\n",
    "                \n",
    "            #avancem calculant distàncies    \n",
    "            for i in range(1, patro_length):\n",
    "                for j in range(1, text_length):\n",
    "                    deletion = distance_matrix[i-1][j] + dlt\n",
    "                    insertion = distance_matrix[i][j-1] + insr\n",
    "                    substitution = distance_matrix[i-1][j-1]\n",
    "                    if patro[i-1] != text[j-1]: \n",
    "                        substitution += subs\n",
    "                    distance_matrix[i][j] = min(insertion, deletion, substitution)\n",
    "            \n",
    "            # calculem la distància final        \n",
    "            distancia2=min(distance_matrix[patro_length-1]) \n",
    "\n",
    "            #Guardem la línia a minima distancia d'edicio \n",
    "            if distancia2 < distancia[indp]:\n",
    "                    distancia[indp] = distancia2\n",
    "                    linia[indp] = ind\n",
    "    \n",
    "    t2 = time.clock()\n",
    "    temps = t2 - t1\n",
    "    \n",
    "    return ([['AGATACATTAGACAATAGAGATGTGGTC',linia[1],distancia[1]],\n",
    "            ['GTCAGTCTGGCCTTGCCATTGGTGCCACCA',linia[2],distancia[2]],\n",
    "            ['TACCGAGAAGCTGGATTACAGCATGTACCATCAT',linia[3],distancia[3]],\n",
    "            temps])"
   ]
  },
  {
   "cell_type": "code",
   "execution_count": 32,
   "metadata": {},
   "outputs": [
    {
     "data": {
      "text/plain": [
       "[['AGATACATTAGACAATAGAGATGTGGTC', 32, 11],\n",
       " ['GTCAGTCTGGCCTTGCCATTGGTGCCACCA', 352, 11],\n",
       " ['TACCGAGAAGCTGGATTACAGCATGTACCATCAT', 233, 13],\n",
       " 3.9464657330092905]"
      ]
     },
     "execution_count": 32,
     "metadata": {},
     "output_type": "execute_result"
    }
   ],
   "source": [
    "# Test de la funció\n",
    "dna(['AGATACATTAGACAATAGAGATGTGGTC','GTCAGTCTGGCCTTGCCATTGGTGCCACCA','TACCGAGAAGCTGGATTACAGCATGTACCATCAT'], \"HUMAN-DNA.txt\")"
   ]
  },
  {
   "cell_type": "markdown",
   "metadata": {
    "lang": "ca"
   },
   "source": [
    "Modifica la funció *dna* anterior de manera que donat el patró *GGCCTTGCCATTGG*, per cada una de les 10 primeres línies d'un fitxer donat indiqui:\n",
    "\n",
    "+ A quina distància d'edició està el substring més semblant d'aquella línia.\n",
    "+ El primer substring d'aquella línia que està a mínima distància d'edició.\n",
    "\n",
    "Per trobar el substring a mínima distància has de buscar els mínims de la darrera línia de la matriu, i recorrer el camí invers fins arribar a la primera fila o a la primera columna. Per exemple si la casella prové d'una substitució o d'una equivalència caldrà saltar a la casella en diagonal, si la casella prové d'una eliminació caldrà saltar a la casella directament superior i finalment si prové d'una inserció caldrà saltar a la casella esquerra. Un cop arribats al final el substring correspondrà a les lletres del text entre la columna inicial i la final.\n",
    "\n",
    "Es recomana fer proves amb textos senzills (no el fitxer que donem de mostra) per poder fer el seguiment de la funció.\n",
    "\n",
    "La funció com a entrada tindrà el patró i el nom del fitxer, i la sortida per cada línia ha d'indicar la distància i el primer substring a distància mínima."
   ]
  },
  {
   "cell_type": "markdown",
   "metadata": {
    "lang": "en"
   },
   "source": [
    "Modify the *dna* previous function so that given the pattern *GGCCTTGCCATTGG*, for each of the first 10 lines of a given file indicate:\n",
    "\n",
    "+ At what distance of editing is the most similar substring of that line.\n",
    "+ The first substring of that line that is at a minimum editing distance.\n",
    "\n",
    "To find the substring at a minimum distance you have to look for the minimums of the last line of the array, and travel the reverse path until you reach the first row or the first column. For example if the box comes from a substitution or an equivalence you will have to jump to the box diagonally, if the box comes from an elimination you will have to jump in the box directly superior and finally if it comes from an insertion it will be necessary to jump to the left square Once they reach the end the substring will correspond to the letters of the text between the initial and final columns.\n",
    "\n",
    "It is recommended to do tests with simple texts (not the sample file) to be able to track the function.\n",
    "\n",
    "The input function will have the pattern and name of the file, and the output for each line must indicate the distance and the first substring at the minimum distance."
   ]
  },
  {
   "cell_type": "code",
   "execution_count": 9,
   "metadata": {
    "collapsed": true
   },
   "outputs": [],
   "source": [
    "import time\n",
    "\n",
    "def dna2(patro, fitxer):\n",
    "    \n",
    "    #Iniciem el temps\n",
    "    t1 = time.clock()\n",
    "    \n",
    "    #On guardarem els resultats\n",
    "    distancia = [0]\n",
    "    substring = [\"\"]\n",
    "    \n",
    "    #Els costos d'edicio\n",
    "    dlt, insr, subs = 2, 2, 1\n",
    "    \n",
    "    #Calculem la llargada del patro\n",
    "    patro_length = len(patro) + 1\n",
    "    \n",
    "    #Proposem una distancia maxima\n",
    "    distancia.append(len(patro) + 1)\n",
    "\n",
    "    #Index de resultat\n",
    "    indp = 0\n",
    "    \n",
    "    #Carreguem el fitxer\n",
    "    f = open(fitxer,\"r\")\n",
    "    textl = f.readlines()\n",
    "    f.close()\n",
    "    \n",
    "    #Ens quedem amb les 10 primeres linies\n",
    "    textl = textl[:10]\n",
    "\n",
    "    #Bucle per a cada linia\n",
    "    for line in textl:\n",
    "        \n",
    "        #Sumem 1 al index de linia\n",
    "        indp += 1\n",
    "        \n",
    "        #\n",
    "        substring.append(\"\")\n",
    "        distancia.append(patro_length)\n",
    "        \n",
    "        #Eliminem els caracters sobrants\n",
    "        text = line[0:-2]\n",
    "        \n",
    "        #Calculem la llargada del text\n",
    "        text_length = len(text) + 1\n",
    "        \n",
    "        #Creem la matriu de distancia d'edicio i una matriu que guardara la llargada de la substring\n",
    "        distance_matrix = [[0] * text_length for x in range(patro_length)]\n",
    "        substring_matrix = [[0] * text_length for x in range(patro_length)]\n",
    "        \n",
    "        #Levenshtein\n",
    "        for i in range(patro_length):distance_matrix[i][0] = i\n",
    "        for i in range(1, patro_length):\n",
    "            for j in range(1, text_length):\n",
    "                deletion = distance_matrix[i-1][j] + dlt\n",
    "                insertion = distance_matrix[i][j-1] + insr\n",
    "                substitution = distance_matrix[i-1][j-1]\n",
    "                if patro[i-1] != text[j-1]: \n",
    "                    substitution += subs\n",
    "                \n",
    "                #Quan assignem la distancia tambe assignem a la matriu de la substring els desplaçaments de columna efectuats\n",
    "                if substitution < insertion and substitution < deletion:\n",
    "                    substring_matrix[i][j] = substring_matrix[i-1][j-1] + 1\n",
    "                    distance_matrix[i][j] = substitution\n",
    "                if insertion < deletion and insertion <= substitution:\n",
    "                    substring_matrix[i][j] = substring_matrix[i][j-1] + 1\n",
    "                    distance_matrix[i][j] = insertion\n",
    "                if deletion <= insertion and deletion <= substitution:\n",
    "                    substring_matrix[i][j] = substring_matrix[i-1][j] + 0\n",
    "                    distance_matrix[i][j] = deletion\n",
    "        \n",
    "        #Calculem la distancia minima i la llargada del substring associat\n",
    "        for i in range(text_length):\n",
    "            if distance_matrix[patro_length-1][i] < distancia[indp] :\n",
    "                distancia[indp] = distance_matrix[patro_length-1][i]\n",
    "                move = substring_matrix[patro_length-1][i]\n",
    "                #Posicio de la ultima lletra del patro\n",
    "                last = i\n",
    "        #Agafem el substring (que comença a 'move' lletres abans de l'ultima lletra del patro 'last')\n",
    "        substring[indp] = line[(last-move):last]\n",
    "        \n",
    "    #Calculem el temps tardat\n",
    "    t2 = time.clock()\n",
    "    temps = t2 - t1\n",
    "    \n",
    "    return ([[ 1,distancia[1],substring[1]],\n",
    "              [ 2,distancia[2],substring[2]],\n",
    "              [ 3,distancia[3],substring[3]],\n",
    "              [ 4,distancia[4],substring[4]],\n",
    "              [ 5,distancia[5],substring[5]],\n",
    "              [ 6,distancia[6],substring[6]],\n",
    "              [ 7,distancia[7],substring[7]],\n",
    "              [ 8,distancia[8],substring[8]],\n",
    "              [ 9,distancia[9],substring[9]],\n",
    "              [10,distancia[10],substring[10]],\n",
    "                temps])"
   ]
  },
  {
   "cell_type": "code",
   "execution_count": 10,
   "metadata": {},
   "outputs": [
    {
     "data": {
      "text/plain": [
       "[[1, 6, 'GGACTTGCCTCAC'],\n",
       " [2, 8, 'GGCTCTCCACACA'],\n",
       " [3, 6, 'GGAATTTCACTGG'],\n",
       " [4, 7, 'GGAAATTCAATTTA'],\n",
       " [5, 8, 'TGCTAAACAGTAG'],\n",
       " [6, 8, 'AGCTTTATTTGG'],\n",
       " [7, 7, 'GGTCATTCTAATAA'],\n",
       " [8, 7, 'ATCCATGTTTTTAG'],\n",
       " [9, 7, 'CGAGTTTCAAATGC'],\n",
       " [10, 8, 'TTCAATATAATTGC'],\n",
       " 0.02253700000000025]"
      ]
     },
     "execution_count": 10,
     "metadata": {},
     "output_type": "execute_result"
    }
   ],
   "source": [
    "# Test de la funció\n",
    "dna2('GGCCTTGCCATTGG', \"HUMAN-DNA.txt\")"
   ]
  },
  {
   "cell_type": "code",
   "execution_count": null,
   "metadata": {
    "collapsed": true
   },
   "outputs": [],
   "source": []
  }
 ],
 "metadata": {
  "kernelspec": {
   "display_name": "Python 3",
   "language": "python",
   "name": "python3"
  },
  "language_info": {
   "codemirror_mode": {
    "name": "ipython",
    "version": 3
   },
   "file_extension": ".py",
   "mimetype": "text/x-python",
   "name": "python",
   "nbconvert_exporter": "python",
   "pygments_lexer": "ipython3",
   "version": "3.6.1"
  },
  "nbTranslate": {
   "displayLangs": [
    "en"
   ],
   "hotkey": "alt-t",
   "langInMainMenu": true,
   "sourceLang": "ca",
   "targetLang": "en",
   "useGoogleTranslate": true
  }
 },
 "nbformat": 4,
 "nbformat_minor": 1
}
